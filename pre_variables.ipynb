{
 "cells": [
  {
   "cell_type": "code",
   "execution_count": 1,
   "metadata": {},
   "outputs": [],
   "source": [
    "import netCDF4 as nc\n",
    "import xarray as xr\n",
    "import numpy as np\n",
    "import matplotlib.pyplot as plt\n",
    "import pandas as pd\n",
    "%matplotlib inline"
   ]
  },
  {
   "cell_type": "code",
   "execution_count": 2,
   "metadata": {},
   "outputs": [],
   "source": [
    "HSY = xr.open_dataset('HSY_daily_cftime.nc')\n",
    "arr = HSY.HotSpot\n",
    "arr_round = xr.where(arr < 0.00005, 0, arr)\n",
    "arr_int = xr.where(arr < 0.00005 , 0, 1)"
   ]
  },
  {
   "cell_type": "code",
   "execution_count": 3,
   "metadata": {},
   "outputs": [],
   "source": [
    "def one(x):\n",
    "    return xr.where((x.rolling(time=3, center = True).sum().fillna(1)) == 0, 0, 1)\n",
    "arr_one = arr_int.groupby('time.year').map(one)"
   ]
  },
  {
   "cell_type": "code",
   "execution_count": null,
   "metadata": {},
   "outputs": [],
   "source": [
    "def rolling_mean(x):\n",
    "    return x.rolling(time=3, center=True).mean()\n",
    "daily = arr_round.groupby('time.year').map(rolling_mean)\n",
    "daily.to_netcdf('daily_00005_.nc')"
   ]
  },
  {
   "cell_type": "code",
   "execution_count": 4,
   "metadata": {},
   "outputs": [],
   "source": [
    "daily = (xr.open_dataset('daily_00005_.nc')).HotSpot"
   ]
  },
  {
   "cell_type": "code",
   "execution_count": 5,
   "metadata": {},
   "outputs": [],
   "source": [
    "HSpeak = daily.groupby('time.year').max()"
   ]
  },
  {
   "cell_type": "code",
   "execution_count": 14,
   "metadata": {},
   "outputs": [],
   "source": [
    "HSpeak.to_netcdf('HSpeak.nc')"
   ]
  },
  {
   "cell_type": "code",
   "execution_count": 6,
   "metadata": {},
   "outputs": [],
   "source": [
    "def where_max(x):\n",
    "    maxi = x.max(dim = 'time')\n",
    "    return xr.where(x == maxi, 1, 0)"
   ]
  },
  {
   "cell_type": "code",
   "execution_count": 7,
   "metadata": {},
   "outputs": [],
   "source": [
    "max_mask = daily.groupby('time.year').map(where_max)"
   ]
  },
  {
   "cell_type": "code",
   "execution_count": 8,
   "metadata": {},
   "outputs": [],
   "source": [
    "def max_loc(x):\n",
    "    return x.argmax(dim = 'time')"
   ]
  },
  {
   "cell_type": "code",
   "execution_count": 9,
   "metadata": {},
   "outputs": [],
   "source": [
    "max_mask_year = max_mask.groupby('time.year').map(max_loc)"
   ]
  },
  {
   "cell_type": "code",
   "execution_count": 12,
   "metadata": {},
   "outputs": [],
   "source": [
    "max_mask_year.to_netcdf('max_mask_year.nc')"
   ]
  },
  {
   "cell_type": "code",
   "execution_count": null,
   "metadata": {},
   "outputs": [],
   "source": [
    "import scipy as sc\n",
    "import scipy.ndimage"
   ]
  },
  {
   "cell_type": "code",
   "execution_count": null,
   "metadata": {},
   "outputs": [],
   "source": [
    "def a_label(x): \n",
    "    label = (scipy.ndimage.label(x)[0])\n",
    "    return np.array(label)"
   ]
  },
  {
   "cell_type": "code",
   "execution_count": null,
   "metadata": {},
   "outputs": [],
   "source": [
    "def stacked(x): \n",
    "    stack = x.stack(gridcell=['lat', 'lon'])\n",
    "    return (stack.groupby(\"gridcell\").map(a_label).unstack(\"gridcell\"))"
   ]
  },
  {
   "cell_type": "code",
   "execution_count": null,
   "metadata": {},
   "outputs": [],
   "source": [
    "continuous_period = arr_one.groupby('time.year').map(stacked)"
   ]
  },
  {
   "cell_type": "code",
   "execution_count": null,
   "metadata": {},
   "outputs": [],
   "source": [
    "continuous_period.to_netcdf('continous_period_august_4.nc')"
   ]
  },
  {
   "cell_type": "code",
   "execution_count": 10,
   "metadata": {},
   "outputs": [],
   "source": [
    "continuous_period = xr.open_dataset('continous_period_august_4.nc')"
   ]
  },
  {
   "cell_type": "code",
   "execution_count": 11,
   "metadata": {},
   "outputs": [],
   "source": [
    "continuous_period = continuous_period.HotSpot"
   ]
  },
  {
   "cell_type": "code",
   "execution_count": 12,
   "metadata": {},
   "outputs": [],
   "source": [
    "max_group = continuous_period.where((max_mask == 1), 0)"
   ]
  },
  {
   "cell_type": "code",
   "execution_count": 13,
   "metadata": {},
   "outputs": [],
   "source": [
    "query_daily = continuous_period.where((continuous_period > 0) & (continuous_period == max_group))"
   ]
  },
  {
   "cell_type": "code",
   "execution_count": 14,
   "metadata": {},
   "outputs": [],
   "source": [
    "def fill(x):\n",
    "    forward = x.ffill(dim = 'time')\n",
    "    backward = forward.bfill(dim = 'time')\n",
    "    return backward"
   ]
  },
  {
   "cell_type": "code",
   "execution_count": 15,
   "metadata": {},
   "outputs": [],
   "source": [
    "filled = query_daily.groupby('time.year').map(fill)"
   ]
  },
  {
   "cell_type": "code",
   "execution_count": 16,
   "metadata": {},
   "outputs": [],
   "source": [
    "filled.to_netcdf('filled_august_4.nc')"
   ]
  },
  {
   "cell_type": "code",
   "execution_count": 20,
   "metadata": {},
   "outputs": [],
   "source": [
    "filled = xr.open_dataset('filled_august_4.nc')"
   ]
  },
  {
   "cell_type": "code",
   "execution_count": 21,
   "metadata": {},
   "outputs": [],
   "source": [
    "filled = filled.HotSpot"
   ]
  },
  {
   "cell_type": "code",
   "execution_count": 18,
   "metadata": {},
   "outputs": [],
   "source": [
    "query_continuous = xr.where(continuous_period == filled, continuous_period, 0)"
   ]
  },
  {
   "cell_type": "code",
   "execution_count": 23,
   "metadata": {},
   "outputs": [],
   "source": [
    "query_continuous.to_netcdf('query_00005_.nc')"
   ]
  },
  {
   "cell_type": "code",
   "execution_count": 5,
   "metadata": {},
   "outputs": [],
   "source": [
    "def d_acc(acc):\n",
    "    return acc.cumsum(dim='time')-acc.cumsum(dim='time').where(acc.values == 0).ffill(dim='time').fillna(0)"
   ]
  },
  {
   "cell_type": "code",
   "execution_count": 6,
   "metadata": {},
   "outputs": [],
   "source": [
    "cumsum = query_continuous.groupby('time.year').map(d_acc)"
   ]
  },
  {
   "cell_type": "code",
   "execution_count": 7,
   "metadata": {},
   "outputs": [],
   "source": [
    "cumsum.to_netcdf('cumsum_00005_.nc')"
   ]
  },
  {
   "cell_type": "code",
   "execution_count": 20,
   "metadata": {},
   "outputs": [],
   "source": [
    "cumsum = (xr.open_dataset('cumsum_00005_.nc')).HotSpot"
   ]
  },
  {
   "cell_type": "code",
   "execution_count": 21,
   "metadata": {},
   "outputs": [],
   "source": [
    "def first(x):\n",
    "    return xr.where(x>0, x, np.inf).argmin(dim = 'time')\n",
    "\n",
    "def last(x):\n",
    "    return xr.where(x>0, x, 0).argmax(dim = 'time')"
   ]
  },
  {
   "cell_type": "code",
   "execution_count": 22,
   "metadata": {},
   "outputs": [],
   "source": [
    "last = cumsum.groupby('time.year').map(last)\n",
    "first = cumsum.groupby('time.year').map(first)"
   ]
  },
  {
   "cell_type": "code",
   "execution_count": 30,
   "metadata": {},
   "outputs": [],
   "source": [
    "last.to_netcdf('last_HS_c_raw.nc')\n",
    "first.to_netcdf('first_HS_C_raw.nc')"
   ]
  },
  {
   "cell_type": "code",
   "execution_count": null,
   "metadata": {},
   "outputs": [],
   "source": [
    "first_plus1 = xr.where(first==0, first+1, first)\n",
    "last_minus1 = xr.where(last==364, last-1, last)"
   ]
  },
  {
   "cell_type": "code",
   "execution_count": null,
   "metadata": {},
   "outputs": [],
   "source": [
    "first_plus1.to_netcdf('firstHS_c.nc')\n",
    "last_minus1.to_netcdf('lastHS_c.nc')"
   ]
  },
  {
   "cell_type": "code",
   "execution_count": null,
   "metadata": {},
   "outputs": [],
   "source": [
    "first_plus1 = xr.open_dataset('firstHS_c.nc')\n",
    "last_minus1 = xr.open_dataset('lastHS_c.nc')"
   ]
  },
  {
   "cell_type": "code",
   "execution_count": null,
   "metadata": {},
   "outputs": [],
   "source": [
    "first_plus1 = first_plus1.HotSpot\n",
    "last_minus1 = last_minus1.HotSpot"
   ]
  },
  {
   "cell_type": "code",
   "execution_count": null,
   "metadata": {},
   "outputs": [],
   "source": [
    "Dc_pre = (last_minus1 - first_plus1)"
   ]
  },
  {
   "cell_type": "code",
   "execution_count": null,
   "metadata": {},
   "outputs": [],
   "source": [
    "Dc = xr.where(Dc_pre>0, Dc_pre+1, 0)"
   ]
  },
  {
   "cell_type": "code",
   "execution_count": null,
   "metadata": {},
   "outputs": [],
   "source": [
    "def f(x):\n",
    "    return np.count_nonzero(x, axis=-1)\n",
    "\n",
    "g = arr_round.groupby('time.year')\n",
    "mask = xr.apply_ufunc(f, g, input_core_dims = [['time']])"
   ]
  },
  {
   "cell_type": "code",
   "execution_count": null,
   "metadata": {},
   "outputs": [],
   "source": [
    "Dc_mask = Dc.where(mask > 3, 0)"
   ]
  },
  {
   "cell_type": "code",
   "execution_count": null,
   "metadata": {},
   "outputs": [],
   "source": [
    "year_mask = daily.groupby('time.year').max()"
   ]
  },
  {
   "cell_type": "code",
   "execution_count": null,
   "metadata": {},
   "outputs": [],
   "source": [
    "Dc_mask13 = Dc_mask.where(year_mask >= 0, np.nan)"
   ]
  },
  {
   "cell_type": "code",
   "execution_count": null,
   "metadata": {},
   "outputs": [],
   "source": [
    "Dc_mask13.to_netcdf('Dc_00005_.nc')"
   ]
  },
  {
   "cell_type": "code",
   "execution_count": null,
   "metadata": {},
   "outputs": [],
   "source": [
    "Dc = xr.open_dataset('DC_00005_.nc')"
   ]
  },
  {
   "cell_type": "code",
   "execution_count": null,
   "metadata": {},
   "outputs": [],
   "source": [
    "Dc = Dc.HotSpot"
   ]
  },
  {
   "cell_type": "code",
   "execution_count": null,
   "metadata": {},
   "outputs": [],
   "source": [
    "def positive_three(x):\n",
    "    return xr.where((x.rolling(time=3, center = True).sum().fillna(0)) == 3, 1, 0)\n",
    "arr_one = arr_int.groupby('time.year').map(positive_three)\n",
    "\n",
    "def back_fill(x):\n",
    "    make_nan = xr.where(x == 0, np.nan, x)\n",
    "    backward = make_nan.bfill(dim = 'time', limit = 2)\n",
    "    forward = backward.ffill(dim = 'time', limit = 2)\n",
    "    return forward.fillna(0)\n",
    "arr_one_back = arr_one.groupby('time.year').map(back_fill)\n",
    "\n",
    "#def first(x):\n",
    "#    return xr.where(x>0, x, np.inf).argmin(dim = 'time')\n",
    "#first = cumsum.groupby('time.year').map(first)\n",
    "#first_plus1 = xr.where(first==0, first+1, first)\n",
    "\n",
    "def d_first(x):\n",
    "    acc = x.cumsum(dim = 'time')\n",
    "    return xr.where(acc>0, acc, np.inf).argmin(dim = 'time')\n",
    "first_HS = arr_one_back.groupby('time.year').map(d_first)\n",
    "first_HS_plus1 = xr.where(first_HS==0, first_HS+1, first_HS)\n",
    "first_HS_end = xr.where(first_HS_plus1 >= 361, 0, first_HS_plus1)\n",
    "\n",
    "def d_last(x):\n",
    "    acc = x.cumsum(dim = 'time')\n",
    "    return acc.argmax(dim = 'time')\n",
    "last_HS = arr_int.groupby('time.year').map(d_last)\n",
    "last_HS_minus1 = xr.where(last_HS==361, last_HS-1, last_HS)\n",
    "last_HS_start = xr.where(last_HS_minus1 <= 3, 0, last_HS_minus1)\n",
    "\n",
    "HS_last = xr.where(first_HS_end == 0, 0, last_HS_start)\n",
    "HS_begin = xr.where(last_HS_start == 0, 0, last_HS_start)"
   ]
  },
  {
   "cell_type": "code",
   "execution_count": null,
   "metadata": {},
   "outputs": [],
   "source": [
    "Dp_pre = (first_plus1 - first_HS_plus1) \n",
    "Dp = xr.where(Dc <= 4, 0, Dp_pre)\n",
    "dp_plus = xr.where(Dp>0, Dp+1, 0)"
   ]
  },
  {
   "cell_type": "code",
   "execution_count": null,
   "metadata": {},
   "outputs": [],
   "source": [
    "Dp_mask = dp_plus.where(mask > 3, 0)"
   ]
  },
  {
   "cell_type": "code",
   "execution_count": null,
   "metadata": {},
   "outputs": [],
   "source": [
    "Dp_mask13 = Dp_mask.where(year_mask >= 0, np.nan)"
   ]
  },
  {
   "cell_type": "code",
   "execution_count": null,
   "metadata": {},
   "outputs": [],
   "source": [
    "Dp_mask13.to_netcdf('Dp_00005_.nc')"
   ]
  }
 ],
 "metadata": {
  "kernelspec": {
   "display_name": "Python 3",
   "language": "python",
   "name": "python3"
  },
  "language_info": {
   "codemirror_mode": {
    "name": "ipython",
    "version": 3
   },
   "file_extension": ".py",
   "mimetype": "text/x-python",
   "name": "python",
   "nbconvert_exporter": "python",
   "pygments_lexer": "ipython3",
   "version": "3.8.5"
  }
 },
 "nbformat": 4,
 "nbformat_minor": 4
}
